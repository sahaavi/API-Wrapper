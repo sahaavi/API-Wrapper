{
 "cells": [
  {
   "cell_type": "code",
   "execution_count": 199,
   "id": "4a12e18b",
   "metadata": {},
   "outputs": [],
   "source": [
    "import requests\n",
    "import pandas as pd\n",
    "from bs4 import BeautifulSoup"
   ]
  },
  {
   "cell_type": "code",
   "execution_count": 200,
   "id": "2a9eedfc",
   "metadata": {},
   "outputs": [
    {
     "name": "stdout",
     "output_type": "stream",
     "text": [
      "Would you like to enter job description or job URL A: description B. URL X. ExitB\n",
      "How many jobs would you like to enter(integers)?\n",
      "2\n",
      "######Job URL number###### 1\n",
      "\n",
      "Enter job URL:https://ca.linkedin.com/jobs/view/lead-software-engineering-decision-management-platform-at-mastercard-3378359650\n",
      "######Job URL number###### 2\n",
      "\n",
      "Enter job URL:https://www.linkedin.com/jobs/view/3442691887\n"
     ]
    }
   ],
   "source": [
    "inputarr=list()\n",
    "usr_in_op = ''\n",
    "\n",
    "while usr_in_op != 'X':\n",
    "    usr_in_op = input(\"Would you like to enter job description or job URL A: description B. URL X. Exit\")\n",
    "    input_jobs = int(input(\"How many jobs would you like to enter(integers)?\\n\"))\n",
    "    \n",
    "    if usr_in_op == 'A':\n",
    "\n",
    "        for i in range(input_jobs):\n",
    "            print(\"######Job Description number######\",i+1)\n",
    "            inputstr = input(\"\\nEnter job description:\")\n",
    "            #print(inputstr)\n",
    "            inputarr.append(inputstr)\n",
    "        usr_in_op = 'X'\n",
    "            \n",
    "    elif usr_in_op == 'B':\n",
    "        \n",
    "        for i in range(input_jobs):\n",
    "            print(\"######Job URL number######\",i+1)\n",
    "            inputstr = input(\"\\nEnter job URL:\")\n",
    "            #print(inputstr)\n",
    "            inputarr.append(inputstr)\n",
    "            #execute function\n",
    "        usr_in_op = 'X'\n",
    "        \n",
    "#inputarr[0]"
   ]
  },
  {
   "cell_type": "code",
   "execution_count": 210,
   "id": "39d472d8",
   "metadata": {
    "scrolled": false
   },
   "outputs": [],
   "source": [
    "#create beautifulsoup object\n",
    "#process job url by url and scrape job description if url is valid\n",
    "#if url not valid, display error. open.ai is expected to skip these entries\n",
    "\n",
    "#also get title related information\n",
    "job_desc_lst=list()\n",
    "job_title_lst=list()\n",
    "job_loc_lst=list()\n",
    "titstr=list()\n",
    "\n",
    "for job in inputarr:\n",
    "    url=job\n",
    "    get_info = requests.get(url)\n",
    "    if get_info.status_code == 200:\n",
    "        #process and get job desc\n",
    "        get_jd_info = BeautifulSoup(get_info.text)\n",
    "        trim_jd=get_jd_info.select('div')\n",
    "        job_desc=trim_jd[85].text.replace('\\n','')\n",
    "        job_desc_lst.append(job_desc)\n",
    "        \n",
    "        #Get job title, city and country\n",
    "        title=get_jd_info.title.string\n",
    "        title,_=title.split('|')\n",
    "        titstr=title.rsplit('in ',)\n",
    "        job_title_lst.append(titstr[0])\n",
    "        job_loc_lst.append(titstr[1])\n",
    "    else:\n",
    "        job_desc_lst.append(\"Invalid URL, analysis skipped\")"
   ]
  },
  {
   "cell_type": "code",
   "execution_count": 213,
   "id": "b2cc16b9",
   "metadata": {},
   "outputs": [
    {
     "data": {
      "text/html": [
       "<div>\n",
       "<style scoped>\n",
       "    .dataframe tbody tr th:only-of-type {\n",
       "        vertical-align: middle;\n",
       "    }\n",
       "\n",
       "    .dataframe tbody tr th {\n",
       "        vertical-align: top;\n",
       "    }\n",
       "\n",
       "    .dataframe thead th {\n",
       "        text-align: right;\n",
       "    }\n",
       "</style>\n",
       "<table border=\"1\" class=\"dataframe\">\n",
       "  <thead>\n",
       "    <tr style=\"text-align: right;\">\n",
       "      <th></th>\n",
       "      <th>Job URL</th>\n",
       "      <th>Job Description</th>\n",
       "      <th>Job Title</th>\n",
       "      <th>Job Location</th>\n",
       "    </tr>\n",
       "  </thead>\n",
       "  <tbody>\n",
       "    <tr>\n",
       "      <th>0</th>\n",
       "      <td>https://ca.linkedin.com/jobs/view/lead-softwar...</td>\n",
       "      <td>Our PurposeWe work to connect and power an inc...</td>\n",
       "      <td>Mastercard hiring Lead, Software Engineering, ...</td>\n",
       "      <td>Vancouver, British Columbia, Canada</td>\n",
       "    </tr>\n",
       "    <tr>\n",
       "      <th>1</th>\n",
       "      <td>https://www.linkedin.com/jobs/view/3442691887</td>\n",
       "      <td>Company Description Dropbox is a leading globa...</td>\n",
       "      <td>Dropbox hiring Director of Data Science, New I...</td>\n",
       "      <td>Vancouver, British Columbia, Canada</td>\n",
       "    </tr>\n",
       "  </tbody>\n",
       "</table>\n",
       "</div>"
      ],
      "text/plain": [
       "                                             Job URL  \\\n",
       "0  https://ca.linkedin.com/jobs/view/lead-softwar...   \n",
       "1      https://www.linkedin.com/jobs/view/3442691887   \n",
       "\n",
       "                                     Job Description  \\\n",
       "0  Our PurposeWe work to connect and power an inc...   \n",
       "1  Company Description Dropbox is a leading globa...   \n",
       "\n",
       "                                           Job Title  \\\n",
       "0  Mastercard hiring Lead, Software Engineering, ...   \n",
       "1  Dropbox hiring Director of Data Science, New I...   \n",
       "\n",
       "                           Job Location  \n",
       "0  Vancouver, British Columbia, Canada   \n",
       "1  Vancouver, British Columbia, Canada   "
      ]
     },
     "execution_count": 213,
     "metadata": {},
     "output_type": "execute_result"
    }
   ],
   "source": [
    "#print(inputarr)\n",
    "#print(job_desc_lst)\n",
    "#print(job_title_lst)\n",
    "#print(job_loc_lst)\n",
    "if usr_in_op == 'A':\n",
    "    df1 = pd.DataFrame(list(zip(\"\", inputarr,\"\",\"\")), columns = [\"Job URL\",\"Job Description\",\"Job Title\",\"Job Location\"])\n",
    "elif usr_in_op == 'B':\n",
    "    df1 = pd.DataFrame(list(zip(inputarr, job_desc_lst,job_title_lst,job_loc_lst)), columns = [\"Job URL\",\"Job Description\",\"Job Title\",\"Job Location\"])\n",
    "    df1"
   ]
  },
  {
   "cell_type": "markdown",
   "id": "aded98dd",
   "metadata": {},
   "source": [
    "Sample urls\n",
    "\n",
    "\n",
    "#url = \"https://www.google.com/search?q=linkedin\"+\"+data+scientist+jobs\"\n",
    "#url=\"https://ca.linkedin.com/jobs/view/lead-software-engineering-decision-management-platform-at-mastercard-3378359650\"\n",
    "#url = \"https://www.linkedin.com/jobs/view/3442691887/?eBP=NotAvailableFromMidTier&recommendedFlavor=SCHOOL_RECRUIT&refId=oqxIrAPqQGPeRh1QIrwnIA%3D%3D&trackingId=0hYDDnVB5Xio7blf3x%2B9Sw%3D%3D&trk=flagship3_search_srp_jobs\"\n",
    "#url=\"https://www.linkedin.com/jobs/view/3442691887\"\n",
    "#print(url)\n",
    "\n",
    "\n",
    "#pip install html5lib\n",
    "\n",
    "\n",
    "\n",
    "#print(got_info.status_code,got_info.reason)\n",
    "#print(got_info.request.headers)\n",
    "#print(got_info.headers)\n",
    "#print(got_info.text)"
   ]
  },
  {
   "cell_type": "markdown",
   "id": "11ed0b15",
   "metadata": {},
   "source": [
    "# Do not use below - Tried direct job search but does not provide links correctly"
   ]
  },
  {
   "cell_type": "code",
   "execution_count": null,
   "id": "ed3d3272",
   "metadata": {},
   "outputs": [],
   "source": [
    "# Do not use - Does not prodive links for all jobs\n",
    "# TODO: Request the URL (1 mark)\n",
    "import requests\n",
    "\n",
    "#url = \"https://www.google.com/search?q=linkedin\"+\"+data+scientist+jobs\"\n",
    "url=\"https://www.linkedin.com/jobs/search/?currentJobId=3378359650&geoId=103366113&keywords=data%20scientist&location=Vancouver%2C%20British%20Columbia%2C%20Canada&refresh=true\"\n",
    "print(url)\n",
    "got_info = requests.get(url)\n",
    "print(got_info.status_code,got_info.reason)\n",
    "print(got_info.request.headers)\n",
    "print(got_info.headers)\n",
    "print(got_info.text)\n",
    "\n",
    "\n",
    "# TODO: Create BeautifulSoup object (1 mark)\n",
    "from bs4 import BeautifulSoup\n",
    "# Creating a BeautifulSoup object.\n",
    "got_BS_info = BeautifulSoup(got_info.text) # field text contains the content of our request\n",
    "#UBC_Course\n",
    "tables = got_BS_info.find_all(\"link\")\n",
    "# find no of tables and the table that has the content by trial and error\n",
    "print(len(tables))"
   ]
  }
 ],
 "metadata": {
  "kernelspec": {
   "display_name": "Python 3 (ipykernel)",
   "language": "python",
   "name": "python3"
  },
  "language_info": {
   "codemirror_mode": {
    "name": "ipython",
    "version": 3
   },
   "file_extension": ".py",
   "mimetype": "text/x-python",
   "name": "python",
   "nbconvert_exporter": "python",
   "pygments_lexer": "ipython3",
   "version": "3.9.12"
  }
 },
 "nbformat": 4,
 "nbformat_minor": 5
}
