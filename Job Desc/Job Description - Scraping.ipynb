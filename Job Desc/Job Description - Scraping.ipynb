{
 "cells": [
  {
   "cell_type": "code",
   "execution_count": null,
   "id": "39d472d8",
   "metadata": {},
   "outputs": [],
   "source": [
    "# TODO\n",
    "# TODO: Request the URL (1 mark)\n",
    "import requests\n",
    "\n",
    "#url = \"https://www.google.com/search?q=linkedin\"+\"+data+scientist+jobs\"\n",
    "url=\"https://www.linkedin.com/jobs/view/3378359650/?eBP=CwEAAAGF9I2a3mfh7HpBTYNHdWjFQ2CfYU1ueGFMU0VxzmbjkKz5xPygQrSP5Q5u56cHz65Q_BbHgEvnlprhqKnEGqOt222Wjb3q-cysHUejxCiJDOAXGt-NN2HY_WSsIXdKP8TzNSmSKDb3wEY-BRp530FXk9BWP6V4ncsddUY3AkmFA1mji4RispgENXl817mzS3y-tycUw9J8DItFmpF22-DLksdBsI3fgcCbiFjbfpIzXuLWsFkUuBUxfUAAlqSz76BJf0oRzzfBzxC7U_YYbSTm7dNonPuiJaWG-McnfoahVmT7yBfG_MeL3G1M7_wuZqu0zkZHNwNm7r8nPRMXCBpgrDiqgHxA7GOs7ahNi733Nwmix709gXkFqKs&recommendedFlavor=SCHOOL_RECRUIT&refId=DVLVUeMWSHVn3dgbAl2ZKA%3D%3D&trackingId=BZA5EccRv8EHqNRALx44Nw%3D%3D&trk=flagship3_search_srp_jobs\"\n",
    "print(url)\n",
    "got_info = requests.get(url)\n",
    "print(got_info.status_code,got_info.reason)\n",
    "print(got_info.request.headers)\n",
    "print(got_info.headers)\n",
    "print(got_info.text)"
   ]
  },
  {
   "cell_type": "code",
   "execution_count": 41,
   "id": "8ee72d52",
   "metadata": {},
   "outputs": [
    {
     "name": "stdout",
     "output_type": "stream",
     "text": [
      "128\n"
     ]
    }
   ],
   "source": [
    "# TODO: Create BeautifulSoup object (1 mark)\n",
    "from bs4 import BeautifulSoup\n",
    "# Creating a BeautifulSoup object.\n",
    "got_BS_info = BeautifulSoup(got_info.text) # field text contains the content of our request\n",
    "#UBC_Course\n",
    "tables = got_BS_info.find_all(\"div\")\n",
    "# find no of tables and the table that has the content by trial and error\n",
    "print(len(tables))"
   ]
  },
  {
   "cell_type": "markdown",
   "id": "aded98dd",
   "metadata": {},
   "source": [
    " # sample\n",
    "    \n",
    "    <div class=\"description__text description__text--rich\">\n",
    "      \n",
    "    <section class=\"show-more-less-html\" data-max-lines=\"5\">\n",
    "      <div class=\"show-more-less-html__markup show-more-less-html__markup--clamp-after-5\">\n",
    "        <strong>Our Purpose<br><br></strong>We work to connect and power an inclusive, digital economy that benefits everyone, everywhere by making transactions safe, simple, smart and accessible. Using secure data and networks, partnerships and passion, our innovations and solutions help individuals, financial institutions, governments and businesses realize their greatest potential. Our decency quotient, or DQ, drives our culture and everything we do inside and outside of our company. We cultivate a culture of inclusion for all employees that respects their individual strengths, views, and experiences. We believe that our differences enable us to be a better team – one that makes better decisions, drives innovation and delivers better business results.<br><br><strong>Job Title<br><br></strong>Lead, Software Engineering, Decision Management Platform<br><br>Internally this position is referred as - Lead, Software Engineering - Decision Management Program<br><br><strong>Overview<br><br></strong>ï The Decision Management program enables intelligent decision based products through streaming analytics with the ability to govern these decisions and manage their outcomes with business agility.<br><br>ï This program leverages business rules &amp; AI engines, a streaming big data cluster, an in memory data grids, APIs, &amp; UIs to deliver real time decisions at global scale<br><br>ï This person will be responsible for mentoring the team as well as stay hands on.<br><br>We are looking for a Senior Software Developer (Team Lead) to join our DMP team in Vancouver office.<br><br>ï Are you a strong technical programmer with experience mentoring a team?<br><br>ï Are you passionate about making a difference in this world?<br><br>ï Do you want to be part of a team which helps prevent fraud on every mastercard transaction in this world?<br><br>Role<br><br>ï Design and implement application logic in Java.<br><br>ï Manage your own time while collaborating with teammates to accomplish project goals<br><br>ï Mentor the team.<br><br>ï Create documentation such as high level design and detailed design.<br><br>ï Collaborate with the architect and make sure the team is aligned with architecure guidelines.<br><br>ï Participate in all the scrum ceremonies.<br><br>ï Apply best development practices to write well designed, maintainable, testable, scalable, and secure code.<br><br>ï Write enough unit test to test and verify that features work correctly.<br><br><strong>Essential Knowledge/Experience<br><br></strong>ï Strong programming skills with deep knowledge of Java.<br><br>ï Excellent knowledge of Spring and other frameworks.<br><br>ï Good knowledge of unit testing and mocking frameworks like junit, mockito or easymock.<br><br>ï Good knowledge of SQL and experience working with Oracle.<br><br>ï Experience working with high performance applications.<br><br>ï Good problem diagnostic and creative problem solving skills.<br><br>ï Strong organizational skills; able to manage multiple tasks within the constraints and timelines determined by business needs.<br><br>ï Experience mentoring a team.<br><br><strong>Desirable Skills<br><br></strong>ï Experience with IBM ILOG/ODM and Pivotal Gemfire Grid.<br><br>ï Experience with Dockers, Kubernetes etc.<br><br>ï Experience with Angular.<br><br>ï BS in computer science or a related field preferred.<br><br>What we offer in return includes a beautiful view of the North Shore mountains, coffee that doesnít stink, and colleagues that are as brilliant as they are likeable. We do cool things as a team including monthly craft beer tastings. Donít forget the competitive salary, extended health benefits, flex-time schedules, and encouragement and support for professional development. We love it here, and we think you will too.<br><br><strong>Corporate Security Responsibility<br><br></strong> All activities involving access to Mastercard assets, information, and networks comes with an inherent risk to the organization and, therefore, it is expected that every person working for, or on behalf of, Mastercard is responsible for information security and must<br><ul><li>Abide by Mastercard’s security policies and practices;</li><li>Ensure the confidentiality and integrity of the information being accessed;</li><li>Report any suspected information security violation or breach, and</li><li>Complete all periodic mandatory security trainings in accordance with Mastercard’s guidelines.</li></ul>\n",
    "      </div>"
   ]
  },
  {
   "cell_type": "markdown",
   "id": "11ed0b15",
   "metadata": {},
   "source": [
    "# Do not use below - Tried direct job search but does not provide links correctly"
   ]
  },
  {
   "cell_type": "code",
   "execution_count": null,
   "id": "ed3d3272",
   "metadata": {},
   "outputs": [],
   "source": [
    "# Do not use - Does not prodive links for all jobs\n",
    "# TODO: Request the URL (1 mark)\n",
    "import requests\n",
    "\n",
    "#url = \"https://www.google.com/search?q=linkedin\"+\"+data+scientist+jobs\"\n",
    "url=\"https://www.linkedin.com/jobs/search/?currentJobId=3378359650&geoId=103366113&keywords=data%20scientist&location=Vancouver%2C%20British%20Columbia%2C%20Canada&refresh=true\"\n",
    "print(url)\n",
    "got_info = requests.get(url)\n",
    "print(got_info.status_code,got_info.reason)\n",
    "print(got_info.request.headers)\n",
    "print(got_info.headers)\n",
    "print(got_info.text)\n",
    "\n",
    "\n",
    "# TODO: Create BeautifulSoup object (1 mark)\n",
    "from bs4 import BeautifulSoup\n",
    "# Creating a BeautifulSoup object.\n",
    "got_BS_info = BeautifulSoup(got_info.text) # field text contains the content of our request\n",
    "#UBC_Course\n",
    "tables = got_BS_info.find_all(\"link\")\n",
    "# find no of tables and the table that has the content by trial and error\n",
    "print(len(tables))"
   ]
  },
  {
   "cell_type": "code",
   "execution_count": null,
   "id": "4c93f4cc",
   "metadata": {},
   "outputs": [],
   "source": []
  }
 ],
 "metadata": {
  "kernelspec": {
   "display_name": "Python 3 (ipykernel)",
   "language": "python",
   "name": "python3"
  },
  "language_info": {
   "codemirror_mode": {
    "name": "ipython",
    "version": 3
   },
   "file_extension": ".py",
   "mimetype": "text/x-python",
   "name": "python",
   "nbconvert_exporter": "python",
   "pygments_lexer": "ipython3",
   "version": "3.9.12"
  }
 },
 "nbformat": 4,
 "nbformat_minor": 5
}
