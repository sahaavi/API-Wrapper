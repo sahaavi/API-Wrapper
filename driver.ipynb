{
 "cells": [
  {
   "cell_type": "code",
   "execution_count": 1,
   "metadata": {},
   "outputs": [],
   "source": [
    "from job_skill import run"
   ]
  },
  {
   "cell_type": "code",
   "execution_count": 6,
   "metadata": {},
   "outputs": [
    {
     "name": "stdout",
     "output_type": "stream",
     "text": [
      "######Job URL number###### 1\n"
     ]
    },
    {
     "name": "stderr",
     "output_type": "stream",
     "text": [
      "e:\\Study\\UBC\\Block 4\\DATA 534 Web and Cloud Computing\\Project\\Job-to-Skill\\job_skill\\job_desc.py:52: GuessedAtParserWarning: No parser was explicitly specified, so I'm using the best available HTML parser for this system (\"lxml\"). This usually isn't a problem, but if you run this code on another system, or in a different virtual environment, it may use a different parser and behave differently.\n",
      "\n",
      "The code that caused this warning is on line 52 of the file e:\\Study\\UBC\\Block 4\\DATA 534 Web and Cloud Computing\\Project\\Job-to-Skill\\job_skill\\job_desc.py. To get rid of this warning, pass the additional argument 'features=\"lxml\"' to the BeautifulSoup constructor.\n",
      "\n",
      "  get_jd_info = BeautifulSoup(get_info.text)\n"
     ]
    },
    {
     "name": "stdout",
     "output_type": "stream",
     "text": [
      "                                                                                                                                                 Job URL  \\\n",
      "0  https://www.linkedin.com/jobs/view/3401675721/?alternateChannel=search&refId=iSRcpghVHk%2B%2FLpENp8Fzhw%3D%3D&trackingId=eHX7LK53HhOWxHRuLlx8rQ%3D%3D   \n",
      "\n",
      "                                                                                                                                                                                                                                                                                                                                                                                                                                                                                                                                                                                                                                                                                                                                                                                                                                                                                                                                                                                                                                                                                                                                                                                                                                                                                                                                                                                                                                                                                                                                                                                                                                                                                                                                                                                                                                                                                                                                                                                                                                                                                                                                                                                                                                                                                                                                                                                                                                                                                                                                                                                                                                                                                                                                                                                                                                                                                                                                                                                                                                                                                                                                                                                                                                                                                                                                                                                                                                                                                                                                                                                                                                                                                                                                                                                                                                                                                                                                                                                                                                                                                                                                                                                                                                                                                                                                                                                                                                                                                Job Description  \\\n",
      "0          From coast-to-coast, our inspiring colleagues are at the heart of what we do best: helping people, businesses and society prosper in good times and be resilient in bad times. With our team, you’ll bring this purpose to life every day by living our Values, being open to change, and pursuing your goals.In return, we’ll give you countless opportunities to learn and grow, alongside a diverse and passionate community of experts – the best the industry has to offer. You’ll be empowered to be your best self, do your best work, and make a meaningful impact. Here, you can help shape the future of insurance, win as a team, and grow with us.About The RoleWe are currently seeking Actuarial Analysts who will play a key role in supporting our growth.The incumbent will join a team of P&C actuaries with a broad range of mandates ranging from product pricing to financial forecasting, and including many other analyses related to Intact’s operations.Process, validate and analyze statistical data and produce reports to be used as a basis for actuarial work or for meeting specific business needs.Participate in the various activities specific to the work team (product pricing, production analyses, provisions, financial forecasting, etc.) by applying standard actuarial principles.Produce computer reports and make improvements as needed using various programs and software (SAS, R, Python, SQL, VBA, Excel and Access).Share knowledge and explain basic actuarial principles to peers.What You Bring To The TableBachelor’s degree in actuarial services, mathematics, statistics, finance or economics.Having passed three CAS exams is an asset.Computer skills (SAS, VBA, R, Python) and good knowledge of Microsoft Office Suite.Good analytical and synthesis skills.Initiative and autonomy.Planning and organizational skills.Interpersonal communication and teamwork skills.Adaptability.Service quality and customer service orientation.Please join your transcript to your application.Permanent positions and 6 months contracts available. #IN-QC #IN-ON #IN-WestWhat We OfferWorking here means you'll be empowered to be and do your best every day. Here is some of what you can expect as a permanent member of our team:A financial rewards program that recognizes your success An industry leading Employee Share Purchase Plan; we match 50% of net shares purchased An extensive flex pension and benefits package, with access to virtual healthcare Flexible work arrangements Possibility to purchase up to 5 extra days off per year An annual wellness account that promotes an active and healthy lifestyle Access to tools and resources to support physical and mental health, embracing change and connecting with colleagues A dynamic workplace learning ecosystem complete with learning journeys, interactive online content, and inspiring programs Inclusive employee-led networks to educate, inspire, amplify voices, build relationships and provide development opportunitiesInspiring leaders and colleagues who will lift you up and help you grow A Community Impact program, because what you care about is a part of what makes you different. And how you contribute to your community should be just as unique. We are an equal opportunity employerAt Intact, we value diversity and strive to create an inclusive, accessible workplace where all individuals feel valued, respected, and heard.If we can provide a specific adjustment to make the recruitment process more accessible for you, please let us know when we reach out about a job opportunity. We’ll work with you to meet your needs.Click here to review other important information about the hiring process, including background checks, internal candidates, and eligibility to work in Canada.If you are an employee of Intact, belairdirect, or Johnson Insurance, please apply for this role on Contact People.        Show more                Show less                    Seniority level                      Mid-Senior level                    Employment type                  Full-time                    Job function                      Finance and Sales                      Industries                    Software Development, Insurance, and Financial Services          Referrals increase your chances of interviewing at Intact by 2x              See who you know                \n",
      "\n",
      "                          Job Title                          Job Location  \\\n",
      "0  Intact hiring Actuarial Analyst   Vancouver, British Columbia, Canada    \n",
      "\n",
      "                                                                                                                                                                                                                                                                                                                                                                                                                                                                      Skills_and_Percentage  \\\n",
      "0  [(Computer skills (SAS, VBA, R, Python), 10), (Good analytical and synthesis skills, 10), (Initiative and autonomy, 10), (Planning and organizational skills, 10), (Interpersonal communication and teamwork skills, 10), (Adaptability, 10), (Service quality and customer service orientation, 10), (Bachelor’s degree in actuarial services, mathematics, statistics, finance or economics, 10), (Having passed three CAS exams, 10), (Good knowledge of Microsoft Office Suite, 10)]   \n",
      "\n",
      "        Programming Languages                                    Tools  \\\n",
      "0  [SAS, R, Python, SQL, VBA]  [Microsoft Office Suite, Excel, Access]   \n",
      "\n",
      "                                                                                                                                                                                                   Technical Skills  \n",
      "0  [Analytical and Synthesis Skills, Initiative and Autonomy, Planning and Organizational Skills, Interpersonal Communication and Teamwork Skills, Adaptability, Service Quality and Customer Service Orientation.]  \n"
     ]
    }
   ],
   "source": [
    "run.main()"
   ]
  }
 ],
 "metadata": {
  "kernelspec": {
   "display_name": "Python 3",
   "language": "python",
   "name": "python3"
  },
  "language_info": {
   "codemirror_mode": {
    "name": "ipython",
    "version": 3
   },
   "file_extension": ".py",
   "mimetype": "text/x-python",
   "name": "python",
   "nbconvert_exporter": "python",
   "pygments_lexer": "ipython3",
   "version": "3.9.6"
  },
  "orig_nbformat": 4,
  "vscode": {
   "interpreter": {
    "hash": "7459fc3de7a9cfbb16956cc8e27f933e0ea1512a8cf97ca2195aa9f74a47b2b0"
   }
  }
 },
 "nbformat": 4,
 "nbformat_minor": 2
}
