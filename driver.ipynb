{
 "cells": [
  {
   "cell_type": "code",
   "execution_count": 1,
   "metadata": {},
   "outputs": [],
   "source": [
    "from job_skill import run"
   ]
  },
  {
   "cell_type": "code",
   "execution_count": 2,
   "metadata": {},
   "outputs": [
    {
     "name": "stdout",
     "output_type": "stream",
     "text": [
      "Would you like to enter job description or job URL A: description B. URL X. Exit \n",
      "B\n",
      "How many jobs would you like to enter(integers)? MIN:1 & MAX:10 \n",
      "1\n",
      "######Job URL number###### 1\n",
      "\n",
      "Enter job URL:https://www.linkedin.com/jobs/view/3430414881/?alternateChannel=search&refId=XRg%2BV6%2Fj9vHfsw%2BxBd%2BseQ%3D%3D&trackingId=7gwRmwnr0uAw1LiQnnzZ%2Fw%3D%3D&trk=d_flagship3_search_srp_jobs\n"
     ]
    },
    {
     "name": "stderr",
     "output_type": "stream",
     "text": [
      "/Users/nomanmohammad/Desktop/Job-to-Skill/job_skill/job_desc.py:52: GuessedAtParserWarning: No parser was explicitly specified, so I'm using the best available HTML parser for this system (\"html.parser\"). This usually isn't a problem, but if you run this code on another system, or in a different virtual environment, it may use a different parser and behave differently.\n",
      "\n",
      "The code that caused this warning is on line 52 of the file /Users/nomanmohammad/Desktop/Job-to-Skill/job_skill/job_desc.py. To get rid of this warning, pass the additional argument 'features=\"html.parser\"' to the BeautifulSoup constructor.\n",
      "\n",
      "  get_jd_info = BeautifulSoup(get_info.text)\n"
     ]
    },
    {
     "name": "stdout",
     "output_type": "stream",
     "text": [
      "OpenAI API request exceeded rate limit: The server had an error while processing your request. Sorry about that!\n",
      "An unknown error occurred. Please try again with valid inputs.\n",
      "                                                                                                                                                                                       Job URL  \\\n",
      "0  https://www.linkedin.com/jobs/view/3430414881/?alternateChannel=search&refId=XRg%2BV6%2Fj9vHfsw%2BxBd%2BseQ%3D%3D&trackingId=7gwRmwnr0uAw1LiQnnzZ%2Fw%3D%3D&trk=d_flagship3_search_srp_jobs   \n",
      "\n",
      "                                                                                                                                                                                                                                                                                                                                                                                                                                                                                                                                                                                                                                                                                                                                                                                                                                                                                                                                                                                                                                                                                                                                                                                                                                                                                                                                                                                                                                                                                                                                                                                                                                                                                                                                                                                                                                                                                                                                                                                                                                                                                                                                                                                                                                                                                                                                                                                                                                                                                                                                                                                                                                                                                                                                                                                                                                                                                                                                                                                                                                                                                                                                                                                                                                                                                                                                                                                                                                                                                                                                                                                                                                                                                                                                                                                                                                                                                                                                                                                                                                                                                                                                                                                                                                                                                                                                                                                                                                                                                                                                                                                                                                                                                                                                                                                                                                                                                 Job Description  \\\n",
      "0  TD DescriptionTell us your story. Don't go unnoticed. Explain why you're a winning candidate. Think \"TD\" if you crave meaningful work and embrace change like we do. We are a trusted North American leader that cares about people and inspires them to grow and move forward.Stay current and competitive. Carve out a career for yourself. Grow with us. Here's our story: jobs.td.comDepartment OverviewWhat does TD stand for? For starters, we believe in visionary leadership and insights. We believe in using every resource at our disposal to better serve our clients, and for almost every department, that begins with data.As part of our Data and Analytics team, you'll be a fundamental part of crafting business processes enterprise-wide by analyzing vast amounts of past and present data.TD's vision for the future? Tailored, customized banking products, services and experiences for every single customer. If you've been in business as long as we have, you know there's no such thing as one size fits all, and a diverse, inclusive Data Analytics team is a massive part of that future achievement.Job DescriptionAbout this RoleFor this role, we're counting on your intensive technical leadership to forge our path moving forward. As an emissary of the crucial nature of data science, you'll work in close proximity others across the bank to identify and pursue new opportunities wherever they lie. You'll play a crucial role on cross functional teams of data scientists, data and IT engineers and business process owners to build out and implement world-class analytic solutions enterprise wide. You can handle just how much data TD has, and cannot wait to help build statistical models that scale to them.We are looking for someone to help parse our vast data and identify needs and analytical trends employing industry leading techniques and theories to improve TD's business practices enterprise wide.As a Data Scientist III, these are the essential qualifications of this role: Provide insight into leading analytic practices, designs and leads iterative learning and development cycles, and ultimately produce new and creative analytic solutions that will become core deliverablesWork closely with business owners to find opportunities and serve as an ambassador for data scienceDesign and deliver enterprise analytic solutions for customersDevelop powerful business insights from social, marketing and industrial data using advanced machine learning techniquesBuild complex statistical models that learn from and scale to petabytes of data.Analytical thought leadership and stay current on developments in data mining and the application of data scienceWork independently as a senior lead and may manage and direct activities related to analysis, design and support of technical data management solutions on various projects ranging in complexity and sizeGenerally accountable for a significant business management area that typically has enterprise wide impact or accountabilityEnterprise or functional expert, requiring broad managerial and deep specialized knowledge at the enterprise, business, regulatory and industry levelsJob RequirementsWhat can you bring to TD?  Tell us about your most relevant experience, credentials and knowledge for this role, as well as these essential requirements and attributes:Undergraduate degree or technical certificateTen (10) or more years of relevant experienceFamiliarity and experience with Optimization and Operations Research methodologies as applied in a commercial Marketing context Familiarity and experience with MarTech tools and process and the activation of machine learning and analytical outputs within these toolsAdditional Information#datascientistInclusivenessAt TD, we are committed to fostering an inclusive, accessible environment, where all employees and customers feel valued, respected and supported. We are dedicated to building a workforce that reflects the diversity of our customers and communities in which we live and serve. If you require an accommodation for the recruitment/interview process (including alternate formats of materials, or accessible meeting rooms or other accommodation), please let us know and we will work with you to meet your needs.        Show more                Show less                    Seniority level                      Not Applicable                    Employment type                  Full-time                    Job function                      Engineering and Information Technology                      Industries                    Banking, Insurance, and Financial Services          Referrals increase your chances of interviewing at TD by 2x              See who you know                \n",
      "\n",
      "                           Job Title               Job Location  \\\n",
      "0  TD hiring Data Scientist III- EN   Toronto, Ontario, Canada    \n",
      "\n",
      "                                                                                                                                                                                                                                                                                                                                                                        Skills_and_Percentage  \\\n",
      "0  [(                Technical Leadership, 20), (                Data Science, 20), (                Business Processes, 15), (                Data Mining, 15), (                Machine Learning, 15), (                Statistical Modeling, 10), (                Business Management, 5), (                Optimization and Operations Research, 5), (                MarTech Tools, 5)]   \n",
      "\n",
      "  Programming Languages Tools Technical Skills  \n",
      "0                  None  None             None  \n"
     ]
    }
   ],
   "source": [
    "run.main()"
   ]
  },
  {
   "cell_type": "code",
   "execution_count": null,
   "metadata": {},
   "outputs": [],
   "source": [
    "# df1.head()\n",
    "# jobs_df = oa.call_api(df1)\n",
    "# jobs_df.head()\n",
    "\n",
    "# #parse the jobs_df to clean columns and make ready for visualization\n",
    "# lang = jv.parse_df(jobs_df, 'Programming Languages')\n",
    "# tools = jv.parse_df(jobs_df, 'Tools')\n",
    "\n",
    "# #call function to return visual for tools and programming languages\n",
    "# jv.visualize_info(lang, tools)\n",
    "\n",
    "# #call function to return visual for location distribution\n",
    "# jv.visualize_location(df_test, 'Job Location')\n",
    "\n",
    "# #prepare skills for interview questions and suggested AI reponses\n",
    "# skills = df_test['Technical Skills'].tolist()\n",
    "\n",
    "# #get dataframe of questions and response\n",
    "# interview_df = oa.call_api_interview(api_key, skills)\n",
    "# interview_df\n"
   ]
  }
 ],
 "metadata": {
  "kernelspec": {
   "display_name": "Python 3 (ipykernel)",
   "language": "python",
   "name": "python3"
  },
  "language_info": {
   "codemirror_mode": {
    "name": "ipython",
    "version": 3
   },
   "file_extension": ".py",
   "mimetype": "text/x-python",
   "name": "python",
   "nbconvert_exporter": "python",
   "pygments_lexer": "ipython3",
   "version": "3.10.8"
  },
  "vscode": {
   "interpreter": {
    "hash": "7459fc3de7a9cfbb16956cc8e27f933e0ea1512a8cf97ca2195aa9f74a47b2b0"
   }
  }
 },
 "nbformat": 4,
 "nbformat_minor": 2
}
