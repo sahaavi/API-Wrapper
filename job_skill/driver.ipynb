{
 "cells": [
  {
   "cell_type": "code",
   "execution_count": 1,
   "metadata": {},
   "outputs": [],
   "source": [
    "import openai_api as oa\n",
    "import pandas as pd"
   ]
  },
  {
   "cell_type": "code",
   "execution_count": 2,
   "metadata": {},
   "outputs": [],
   "source": [
    "job_description = \"\"\"Understand the day-to-day issues that our business faces, which can be better understood with data\n",
    "Collecting and analyzing data from a variety of sources (such as college and university websites, government databases, and industry reports)\n",
    "Cleaning, formatting, and organizing the data in a way that is useful and easy to understand\n",
    "Creating Excel sheets or other data visualization tools to display the information in a clear and visually appealing way\n",
    "Identifying trends and patterns in the data, and providing insights and recommendations based on the analysis\n",
    "Collaborating with other teams within the company to ensure that the data is accurate and relevant to their needs\n",
    "Continuously monitoring and updating the data set to ensure its relevance and accuracy\n",
    "Compile and analyze data related to business' issues\n",
    "Develop clear visualizations to convey complicated data in a straightforward fashion.\"\"\""
   ]
  },
  {
   "cell_type": "code",
   "execution_count": null,
   "metadata": {},
   "outputs": [],
   "source": [
    "import os\n",
    "from dotenv import load_dotenv\n",
    "load_dotenv()\n",
    "api_key = os.getenv(\"API_KEY\")"
   ]
  },
  {
   "cell_type": "code",
   "execution_count": 4,
   "metadata": {},
   "outputs": [
    {
     "data": {
      "text/plain": [
       "{'Skills': [' Collecting and analyzing data',\n",
       "  'Cleaning, formatting, and organizing data',\n",
       "  'Creating Excel sheets or other data visualization tools',\n",
       "  'Identifying trends and patterns in the data',\n",
       "  'Collaborating with other teams',\n",
       "  'Continuously monitoring and updating the data set',\n",
       "  \"Compiling and analyzing data related to business' issues\",\n",
       "  'Developing clear visualizations'],\n",
       " 'Percentage': ['20', '20', '15', '15', '10', '10', '10', '10']}"
      ]
     },
     "execution_count": 4,
     "metadata": {},
     "output_type": "execute_result"
    }
   ],
   "source": [
    "result = oa.call_api_skills_percent(api_key, job_description)\n",
    "result"
   ]
  },
  {
   "cell_type": "code",
   "execution_count": 5,
   "metadata": {},
   "outputs": [
    {
     "data": {
      "text/plain": [
       "{'Programming Languages': ['Python, SQL'],\n",
       " 'Tools': ['Excel, Data Visualization Tools'],\n",
       " 'Technical Skills': ['Data Collection, Data Analysis, Data Cleaning, Data Formatting, Data Organization, Data Visualization, Trend and Pattern Identification, Insights and Recommendations, Collaboration, Data Monitoring and Updating.']}"
      ]
     },
     "execution_count": 5,
     "metadata": {},
     "output_type": "execute_result"
    }
   ],
   "source": [
    "result2 = oa.call_api_tech_skills(api_key, job_description)\n",
    "result2"
   ]
  },
  {
   "cell_type": "code",
   "execution_count": 8,
   "metadata": {},
   "outputs": [
    {
     "data": {
      "text/html": [
       "\n",
       "<div id=\"altair-viz-03c3b50ad6dd43a6b50148cf1290425c\"></div>\n",
       "<script type=\"text/javascript\">\n",
       "  var VEGA_DEBUG = (typeof VEGA_DEBUG == \"undefined\") ? {} : VEGA_DEBUG;\n",
       "  (function(spec, embedOpt){\n",
       "    let outputDiv = document.currentScript.previousElementSibling;\n",
       "    if (outputDiv.id !== \"altair-viz-03c3b50ad6dd43a6b50148cf1290425c\") {\n",
       "      outputDiv = document.getElementById(\"altair-viz-03c3b50ad6dd43a6b50148cf1290425c\");\n",
       "    }\n",
       "    const paths = {\n",
       "      \"vega\": \"https://cdn.jsdelivr.net/npm//vega@5?noext\",\n",
       "      \"vega-lib\": \"https://cdn.jsdelivr.net/npm//vega-lib?noext\",\n",
       "      \"vega-lite\": \"https://cdn.jsdelivr.net/npm//vega-lite@4.17.0?noext\",\n",
       "      \"vega-embed\": \"https://cdn.jsdelivr.net/npm//vega-embed@6?noext\",\n",
       "    };\n",
       "\n",
       "    function maybeLoadScript(lib, version) {\n",
       "      var key = `${lib.replace(\"-\", \"\")}_version`;\n",
       "      return (VEGA_DEBUG[key] == version) ?\n",
       "        Promise.resolve(paths[lib]) :\n",
       "        new Promise(function(resolve, reject) {\n",
       "          var s = document.createElement('script');\n",
       "          document.getElementsByTagName(\"head\")[0].appendChild(s);\n",
       "          s.async = true;\n",
       "          s.onload = () => {\n",
       "            VEGA_DEBUG[key] = version;\n",
       "            return resolve(paths[lib]);\n",
       "          };\n",
       "          s.onerror = () => reject(`Error loading script: ${paths[lib]}`);\n",
       "          s.src = paths[lib];\n",
       "        });\n",
       "    }\n",
       "\n",
       "    function showError(err) {\n",
       "      outputDiv.innerHTML = `<div class=\"error\" style=\"color:red;\">${err}</div>`;\n",
       "      throw err;\n",
       "    }\n",
       "\n",
       "    function displayChart(vegaEmbed) {\n",
       "      vegaEmbed(outputDiv, spec, embedOpt)\n",
       "        .catch(err => showError(`Javascript Error: ${err.message}<br>This usually means there's a typo in your chart specification. See the javascript console for the full traceback.`));\n",
       "    }\n",
       "\n",
       "    if(typeof define === \"function\" && define.amd) {\n",
       "      requirejs.config({paths});\n",
       "      require([\"vega-embed\"], displayChart, err => showError(`Error loading script: ${err.message}`));\n",
       "    } else {\n",
       "      maybeLoadScript(\"vega\", \"5\")\n",
       "        .then(() => maybeLoadScript(\"vega-lite\", \"4.17.0\"))\n",
       "        .then(() => maybeLoadScript(\"vega-embed\", \"6\"))\n",
       "        .catch(showError)\n",
       "        .then(() => displayChart(vegaEmbed));\n",
       "    }\n",
       "  })({\"config\": {\"view\": {\"continuousWidth\": 400, \"continuousHeight\": 300}}, \"hconcat\": [{\"data\": {\"name\": \"data-e453503b18eb611816d137f84cda810f\"}, \"mark\": \"bar\", \"encoding\": {\"x\": {\"aggregate\": \"count\", \"type\": \"quantitative\"}, \"y\": {\"field\": \"Programming Languages\", \"sort\": \"x\", \"type\": \"nominal\"}}}, {\"data\": {\"name\": \"data-e453503b18eb611816d137f84cda810f\"}, \"mark\": \"bar\", \"encoding\": {\"x\": {\"aggregate\": \"count\", \"type\": \"quantitative\"}, \"y\": {\"field\": \"Tools\", \"sort\": \"x\", \"type\": \"nominal\"}}}], \"$schema\": \"https://vega.github.io/schema/vega-lite/v4.17.0.json\", \"datasets\": {\"data-e453503b18eb611816d137f84cda810f\": [{\"Programming Languages\": \"Python, SQL\", \"Tools\": \"Excel, Data Visualization Tools\", \"Technical Skills\": \"Data Collection, Data Analysis, Data Cleaning, Data Formatting, Data Organization, Data Visualization, Trend and Pattern Identification, Insights and Recommendations, Collaboration, Data Monitoring and Updating.\"}]}}, {\"mode\": \"vega-lite\"});\n",
       "</script>"
      ],
      "text/plain": [
       "alt.HConcatChart(...)"
      ]
     },
     "execution_count": 8,
     "metadata": {},
     "output_type": "execute_result"
    }
   ],
   "source": [
    "#Need to seperate records... the explode is currently not working \n",
    "oa.visualize_tools(result2)"
   ]
  },
  {
   "cell_type": "code",
   "execution_count": 6,
   "metadata": {},
   "outputs": [
    {
     "data": {
      "text/html": [
       "<div>\n",
       "<style scoped>\n",
       "    .dataframe tbody tr th:only-of-type {\n",
       "        vertical-align: middle;\n",
       "    }\n",
       "\n",
       "    .dataframe tbody tr th {\n",
       "        vertical-align: top;\n",
       "    }\n",
       "\n",
       "    .dataframe thead th {\n",
       "        text-align: right;\n",
       "    }\n",
       "</style>\n",
       "<table border=\"1\" class=\"dataframe\">\n",
       "  <thead>\n",
       "    <tr style=\"text-align: right;\">\n",
       "      <th></th>\n",
       "      <th>Questions</th>\n",
       "      <th>Responses</th>\n",
       "    </tr>\n",
       "  </thead>\n",
       "  <tbody>\n",
       "    <tr>\n",
       "      <th>0</th>\n",
       "      <td>How have you used data to identify trends and patterns in the past?</td>\n",
       "      <td>1. 'I have used data to identify trends and patterns in the past by using data visualization tools such as line graphs, scatter plots, and heatmaps. I have also employed predictive analytics to determine how past data may influence future trends.</td>\n",
       "    </tr>\n",
       "    <tr>\n",
       "      <th>1</th>\n",
       "      <td>Describe your experience creating Excel sheets or other data visualization tools</td>\n",
       "      <td>2. I have created Excel sheets, powerpoint presentations, and Tableau dashboards to depict data clearly and accurately. I am well-versed in more complex data visualization techniques such as d3.js, Processing, and R programming.</td>\n",
       "    </tr>\n",
       "    <tr>\n",
       "      <th>2</th>\n",
       "      <td>What strategies do you use to clean, format, and organize data?</td>\n",
       "      <td>3. To clean, format, and organize data, I use a variety of methods such as manual data entry, filtering, sorting, summarizing, and data deletion. I also use databases, programming languages, APIs, and spreadsheets to organize and streamline data.</td>\n",
       "    </tr>\n",
       "    <tr>\n",
       "      <th>3</th>\n",
       "      <td>How do you collaborate with other teams when working with data?</td>\n",
       "      <td>4. When working with data, I collaborate with other teams by sharing findings and insights gained from data analysis. I am also able to explain underlying data to other teams who may not have the same technical knowledge base.</td>\n",
       "    </tr>\n",
       "    <tr>\n",
       "      <th>4</th>\n",
       "      <td>What techniques do you use to compile and analyze data related to business' issues?</td>\n",
       "      <td>5. To compile and analyze data related to business' issues, I use predictive analytics, artificial intelligence, and machine learning. I also use text analytics and natural language processing to get insights and understandings of the data.</td>\n",
       "    </tr>\n",
       "  </tbody>\n",
       "</table>\n",
       "</div>"
      ],
      "text/plain": [
       "                                                                             Questions  \\\n",
       "0                  How have you used data to identify trends and patterns in the past?   \n",
       "1     Describe your experience creating Excel sheets or other data visualization tools   \n",
       "2                      What strategies do you use to clean, format, and organize data?   \n",
       "3                      How do you collaborate with other teams when working with data?   \n",
       "4  What techniques do you use to compile and analyze data related to business' issues?   \n",
       "\n",
       "                                                                                                                                                                                                                                                Responses  \n",
       "0  1. 'I have used data to identify trends and patterns in the past by using data visualization tools such as line graphs, scatter plots, and heatmaps. I have also employed predictive analytics to determine how past data may influence future trends.  \n",
       "1                    2. I have created Excel sheets, powerpoint presentations, and Tableau dashboards to depict data clearly and accurately. I am well-versed in more complex data visualization techniques such as d3.js, Processing, and R programming.  \n",
       "2  3. To clean, format, and organize data, I use a variety of methods such as manual data entry, filtering, sorting, summarizing, and data deletion. I also use databases, programming languages, APIs, and spreadsheets to organize and streamline data.  \n",
       "3                      4. When working with data, I collaborate with other teams by sharing findings and insights gained from data analysis. I am also able to explain underlying data to other teams who may not have the same technical knowledge base.  \n",
       "4        5. To compile and analyze data related to business' issues, I use predictive analytics, artificial intelligence, and machine learning. I also use text analytics and natural language processing to get insights and understandings of the data.  "
      ]
     },
     "execution_count": 6,
     "metadata": {},
     "output_type": "execute_result"
    }
   ],
   "source": [
    "#had to turn it into a nested list\n",
    "skills = [[result['Skills']]]\n",
    "df = oa.call_api_interview(api_key, skills)\n",
    "df"
   ]
  }
 ],
 "metadata": {
  "kernelspec": {
   "display_name": "Python 3 (ipykernel)",
   "language": "python",
   "name": "python3"
  },
  "language_info": {
   "codemirror_mode": {
    "name": "ipython",
    "version": 3
   },
   "file_extension": ".py",
   "mimetype": "text/x-python",
   "name": "python",
   "nbconvert_exporter": "python",
   "pygments_lexer": "ipython3",
   "version": "3.9.6"
  },
  "vscode": {
   "interpreter": {
    "hash": "7459fc3de7a9cfbb16956cc8e27f933e0ea1512a8cf97ca2195aa9f74a47b2b0"
   }
  }
 },
 "nbformat": 4,
 "nbformat_minor": 2
}
