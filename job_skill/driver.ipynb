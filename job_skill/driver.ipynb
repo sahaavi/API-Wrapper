{
 "cells": [
  {
   "cell_type": "code",
   "execution_count": 2,
   "metadata": {},
   "outputs": [],
   "source": [
    "import openai_api as oa"
   ]
  },
  {
   "cell_type": "code",
   "execution_count": 3,
   "metadata": {},
   "outputs": [],
   "source": [
    "job_description = \"\"\"Understand the day-to-day issues that our business faces, which can be better understood with data\n",
    "Collecting and analyzing data from a variety of sources (such as college and university websites, government databases, and industry reports)\n",
    "Cleaning, formatting, and organizing the data in a way that is useful and easy to understand\n",
    "Creating Excel sheets or other data visualization tools to display the information in a clear and visually appealing way\n",
    "Identifying trends and patterns in the data, and providing insights and recommendations based on the analysis\n",
    "Collaborating with other teams within the company to ensure that the data is accurate and relevant to their needs\n",
    "Continuously monitoring and updating the data set to ensure its relevance and accuracy\n",
    "Compile and analyze data related to business' issues\n",
    "Develop clear visualizations to convey complicated data in a straightforward fashion.\"\"\""
   ]
  },
  {
   "cell_type": "code",
   "execution_count": 1,
   "metadata": {},
   "outputs": [],
   "source": [
    "import os\n",
    "from dotenv import load_dotenv\n",
    "load_dotenv()\n",
    "api_key = os.getenv(\"API_KEY\")"
   ]
  },
  {
   "cell_type": "code",
   "execution_count": 4,
   "metadata": {},
   "outputs": [
    {
     "data": {
      "text/plain": [
       "{'Skills': [' Collecting and analyzing data',\n",
       "  'Cleaning, formatting, and organizing data',\n",
       "  'Creating Excel sheets or other data visualization tools',\n",
       "  'Identifying trends and patterns in the data',\n",
       "  'Collaborating with other teams',\n",
       "  'Continuously monitoring and updating the data set'],\n",
       " 'Percentage': ['20', '20', '20', '20', '10', '10']}"
      ]
     },
     "execution_count": 4,
     "metadata": {},
     "output_type": "execute_result"
    }
   ],
   "source": [
    "result = oa.call_api_skills_percent(api_key, job_description)\n",
    "result"
   ]
  },
  {
   "cell_type": "code",
   "execution_count": 8,
   "metadata": {},
   "outputs": [
    {
     "data": {
      "text/plain": [
       "{'Programming Languages': ['Python, SQL'],\n",
       " 'Tools': ['Excel, Data Visualization Tools'],\n",
       " 'Technical Skills': ['Data Analysis, Data Cleaning, Data Formatting, Data Organization, Data Visualization, Trend and Pattern Identification, Insights and Recommendations, Collaboration, Data Monitoring and Updating.']}"
      ]
     },
     "execution_count": 8,
     "metadata": {},
     "output_type": "execute_result"
    }
   ],
   "source": [
    "result = oa.call_api_tech_skills(api_key, job_description)\n",
    "result"
   ]
  }
 ],
 "metadata": {
  "kernelspec": {
   "display_name": "Python 3",
   "language": "python",
   "name": "python3"
  },
  "language_info": {
   "codemirror_mode": {
    "name": "ipython",
    "version": 3
   },
   "file_extension": ".py",
   "mimetype": "text/x-python",
   "name": "python",
   "nbconvert_exporter": "python",
   "pygments_lexer": "ipython3",
   "version": "3.9.6"
  },
  "orig_nbformat": 4,
  "vscode": {
   "interpreter": {
    "hash": "7459fc3de7a9cfbb16956cc8e27f933e0ea1512a8cf97ca2195aa9f74a47b2b0"
   }
  }
 },
 "nbformat": 4,
 "nbformat_minor": 2
}
