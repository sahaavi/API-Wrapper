{
 "cells": [
  {
   "cell_type": "code",
   "execution_count": 38,
   "id": "d2cb52a0",
   "metadata": {},
   "outputs": [
    {
     "name": "stdout",
     "output_type": "stream",
     "text": [
      "Would you like to enter job description or job URL A: description B. URL X. ExitA\n",
      "How many jobs would you like to enter(integers)? MIN:1 & MAX:10 \n",
      "2\n",
      "######Job Description number###### 1\n",
      "\n",
      "Enter job description:Company Description Dropbox is a leading global collaboration platform that's transforming the way people work together, from the smallest business to the largest enterprise. With more than 700 million registered users across more than 180 countries, our mission is to design a more enlightened way of working. From our headquarters in San Francisco to eight dedicated Studios and a worldwide team of employees who choose where they work best, our Virtual First approach is leading the way into the future of work. Team Description Our Product team advocates for our users and our business, setting the vision for our growing family of products. We use data, research, strategy, and empathy to guide multidisciplinary teams toward a common goal, balancing diverse perspectives and empowering our teams to do great work. As we scale globally, there’s plenty of space for you to grow alongside us and simplify life for millions of people around the world in team that always focuses on we, not I, and creates delightful products that are worthy of trust. Role DescriptionHow many times you get an opportunity to be at the ground floor on a very big and important mission? What if you get to be one of the top leaders defining the mission, hiring, guiding your teams and influencing the direction of Dropbox? As a Director of Data Science for this new division, you will exactly get to do that.  You will be able to drive the future direction of this new initiative and answer key questions about revenue/user growth. You will build and lead a team of top-tier data scientists and be an inherent part of product org to create and scale this new business.As a ground floor opportunity for this startup team, we need this lead to build a top-tier data-informed culture with a lot of focus on impact and execution.ResponsibilitiesYou will lead the team in balancing urgency vs. the incredibly high quality bar expected by both our customers and the broader Dropbox organization, through clear and repeatable data informed approachYou will partner closely with leadership across all functions - Product, Engineering, Design, Research, GTM, Customer success and Sales You will have the seat at the table for every key decision for this new initiativeYou will create a culture of strong technical ownership, resulting in highly reliable products and services at scaleYou will build and manage a team of high performing data scientists to deliver best in class analytics You will leverage data-driven insights to proactively identify most impactful opportunities, and inform future experimentation design and product roadmapsRequirementsBachelors’ or above in quantitative discipline: Statistics, Applied Mathematics, Economics, Computer Science, Engineering, or related field10+ years experience of leveraging data-driven analysis to influence key business decisions, preferably in a tech company3+ years directly managing data scientists, quantitative researchers, or product analystsProven track record of being able to work independently and proactively engage with business stakeholders with minimal direction & driver measurable business impactAbility to influence prioritization and execution of high impact projects effecting customer experience and monetizationAbility to analyze large datasets and use data to inform product or business decision making, with a track record of driving directly measurable product or business impactGood Executive presence with excellent verbal and written communication skillsPrevious experience building data driven programs and teams - experience with SQL and large datasets, deep understanding of statistical analysis & experiment designTotal RewardsFor candidates hired in San Francisco metro, New York City metro, or Seattle metro, the expected salary/On-Target Earnings (OTE) range for the role is currently $237,300 - $279,200 - $321,100. For candidates hired in the following locations: Austin (TX) metro, Chicago metro, California (outside SF metro), Colorado, Connecticut (outside NYC metro), Delaware, Massachusetts, New Hampshire, New York (outside NYC metro), Oregon, Pennsylvania (outside NYC or DC metro), Washington (outside Seattle metro) and Washington DC metro, the expected salary/On-Target Earnings (OTE) range for the role is currently $213,600 - $251,300 - $289,000. For candidates hired in all other US locations, the expected salary/On-Target Earnings (OTE) range for this role is currently $189,900 - $223,400 - $256,900. Range(s) is subject to change. Dropbox takes a number of factors into account when determining individual starting pay, including job and level they are hired into, location/metropolitan area, skillset, and peer compensation. Dropbox uses the zip code of an employee’s remote work location to determine which metropolitan pay range we use. Salary/OTE is just one component of Dropbox’s total rewards package. All regular employees are also eligible for the corporate bonus program or a sales incentive (target included in OTE) as well as stock in the form of Restricted Stock Units (RSUs). Dropbox is an equal opportunity employer. We are a welcoming place for everyone, and we do our best to make sure all people feel supported and connected at work. A big part of that effort is our support for members and allies of internal groups like Asians at Dropbox, BlackDropboxers, Latinx, Pridebox (LGBTQ), Vets at Dropbox, Women at Dropbox, ATX Diversity (based in Austin, Texas) and the Dropbox Empowerment Network (based in Dublin, Ireland).        Show more                Show less                    Seniority level                      Not Applicable                    Employment type                  Full-time                    Job function                      Engineering and Information Technology                      Industries                    IT Services and IT Consulting, Software Development, and Technology, Information and Internet          Referrals increase your chances of interviewing at Dropbox by 2x              See who you know             \n",
      "######Job Description number###### 2\n",
      "\n",
      "Enter job description:simple\n",
      "Invalid jobs will be skipped. Numbr of jobs skipped in current run are: 0\n"
     ]
    }
   ],
   "source": [
    "#import packages\n",
    "from job_desc import *\n",
    "import pandas as pd\n",
    "\n",
    "#Get user input on job description in an array\n",
    "try:\n",
    "    inputarr=list()\n",
    "    usr_in_op,usr_in = '',''\n",
    "\n",
    "    while usr_in_op != 'X':\n",
    "        usr_in_op = input(\"Would you like to enter job description or job URL A: description B. URL X. Exit\")\n",
    "        input_jobs = int(input(\"How many jobs would you like to enter(integers)? MIN:1 & MAX:10 \\n\"))\n",
    "\n",
    "        if input_jobs < 1 or input_jobs > 10:\n",
    "            print(\"Number of jobs anticipated is not valid. Please enter an integer between 1 and 10 (both inclusive)\")\n",
    "            usr_in_op = 'X' \n",
    "\n",
    "        if usr_in_op == 'A':\n",
    "\n",
    "            for i in range(input_jobs):\n",
    "                print(\"######Job Description number######\",i+1)\n",
    "                inputstr = input(\"\\nEnter job description:\")\n",
    "                #print(inputstr)\n",
    "                while inputstr == '':\n",
    "                    print(\"You are in a time loop. Input job description to get out of it\")\n",
    "                    inputstr = input(\"\\nEnter job description:\")\n",
    "                inputarr.append(inputstr)\n",
    "            usr_in=usr_in_op\n",
    "            usr_in_op = 'X'\n",
    "\n",
    "        elif usr_in_op == 'B':\n",
    "\n",
    "            for i in range(input_jobs):\n",
    "                print(\"######Job URL number######\",i+1)\n",
    "                inputstr = input(\"\\nEnter job URL:\")\n",
    "                #print(inputstr)\n",
    "                while inputstr == '':\n",
    "                    print(\"You are in a time loop. Input job description to get out of it\")\n",
    "                    inputstr = input(\"\\nEnter job description:\")\n",
    "                inputarr.append(inputstr)\n",
    "                #execute function\n",
    "            usr_in=usr_in_op\n",
    "            usr_in_op = 'X'\n",
    "\n",
    "    if usr_in == 'A':\n",
    "        df1 = pd.DataFrame(list(zip(\"\", \"\",\"\",\"\",\"\")), columns = [\"Job URL\",\"Job Description\",\"Job Title\",\"Job Location\"])\n",
    "        df1[\"Job Description\"]=inputarr\n",
    "    elif usr_in == 'B':\n",
    "        df1 = scrape_job_description(inputarr)\n",
    "\n",
    "except ValueError:\n",
    "      print(\"Error: Number of jobs anticipated is not valid. Please enter an integer between 1 and 10 (both inclusive)\")\n",
    "except Exception:\n",
    "      print(\"An unknown error occurred. Please try again with valid inputs.\")\n",
    "\n",
    "\n",
    "        \n",
    "ignore_df = df1[df1[\"Job Description\"] == \"Invalid URL, analysis skipped\"]\n",
    "\n",
    "\n",
    "#Output the invalid job urls and notify user\n",
    "print (\"Invalid jobs will be skipped. Number of jobs skipped in current run are:\",len(ignore_df))        \n",
    "if len(ignore_df) > 0:\n",
    "    print (\"\\nFollowing are the details of the jobs skipped:\",(ignore_df))          \n",
    "\n",
    "\n",
    "# This is the dataframe with all valid inputs for downstream assessment\n",
    "select_df = df1[df1[\"Job Description\"] != \"Invalid URL, analysis skipped\"]\n",
    "###Hoping Avishek will merge his calls into this book\n"
   ]
  },
  {
   "cell_type": "code",
   "execution_count": 39,
   "id": "1b921e79",
   "metadata": {},
   "outputs": [
    {
     "data": {
      "text/html": [
       "<div>\n",
       "<style scoped>\n",
       "    .dataframe tbody tr th:only-of-type {\n",
       "        vertical-align: middle;\n",
       "    }\n",
       "\n",
       "    .dataframe tbody tr th {\n",
       "        vertical-align: top;\n",
       "    }\n",
       "\n",
       "    .dataframe thead th {\n",
       "        text-align: right;\n",
       "    }\n",
       "</style>\n",
       "<table border=\"1\" class=\"dataframe\">\n",
       "  <thead>\n",
       "    <tr style=\"text-align: right;\">\n",
       "      <th></th>\n",
       "      <th>Job URL</th>\n",
       "      <th>Job Description</th>\n",
       "      <th>Job Title</th>\n",
       "      <th>Job Location</th>\n",
       "    </tr>\n",
       "  </thead>\n",
       "  <tbody>\n",
       "    <tr>\n",
       "      <th>0</th>\n",
       "      <td>NaN</td>\n",
       "      <td>Company Description Dropbox is a leading globa...</td>\n",
       "      <td>NaN</td>\n",
       "      <td>NaN</td>\n",
       "    </tr>\n",
       "    <tr>\n",
       "      <th>1</th>\n",
       "      <td>NaN</td>\n",
       "      <td>simple</td>\n",
       "      <td>NaN</td>\n",
       "      <td>NaN</td>\n",
       "    </tr>\n",
       "  </tbody>\n",
       "</table>\n",
       "</div>"
      ],
      "text/plain": [
       "  Job URL                                    Job Description Job Title Job Location\n",
       "0     NaN  Company Description Dropbox is a leading globa...       NaN          NaN\n",
       "1     NaN                                             simple       NaN          NaN"
      ]
     },
     "execution_count": 39,
     "metadata": {},
     "output_type": "execute_result"
    }
   ],
   "source": [
    "#If job description input\n",
    "df1"
   ]
  },
  {
   "cell_type": "code",
   "execution_count": 4,
   "id": "becfe904",
   "metadata": {},
   "outputs": [
    {
     "data": {
      "text/html": [
       "<div>\n",
       "<style scoped>\n",
       "    .dataframe tbody tr th:only-of-type {\n",
       "        vertical-align: middle;\n",
       "    }\n",
       "\n",
       "    .dataframe tbody tr th {\n",
       "        vertical-align: top;\n",
       "    }\n",
       "\n",
       "    .dataframe thead th {\n",
       "        text-align: right;\n",
       "    }\n",
       "</style>\n",
       "<table border=\"1\" class=\"dataframe\">\n",
       "  <thead>\n",
       "    <tr style=\"text-align: right;\">\n",
       "      <th></th>\n",
       "      <th>Job URL</th>\n",
       "      <th>Job Description</th>\n",
       "      <th>Job Title</th>\n",
       "      <th>Job Location</th>\n",
       "    </tr>\n",
       "  </thead>\n",
       "  <tbody>\n",
       "  </tbody>\n",
       "</table>\n",
       "</div>"
      ],
      "text/plain": [
       "Empty DataFrame\n",
       "Columns: [Job URL, Job Description, Job Title, Job Location]\n",
       "Index: []"
      ]
     },
     "execution_count": 4,
     "metadata": {},
     "output_type": "execute_result"
    }
   ],
   "source": [
    "#If job url input\n",
    "df1"
   ]
  },
  {
   "cell_type": "code",
   "execution_count": 34,
   "id": "0ac05a78",
   "metadata": {},
   "outputs": [
    {
     "data": {
      "text/html": [
       "<div>\n",
       "<style scoped>\n",
       "    .dataframe tbody tr th:only-of-type {\n",
       "        vertical-align: middle;\n",
       "    }\n",
       "\n",
       "    .dataframe tbody tr th {\n",
       "        vertical-align: top;\n",
       "    }\n",
       "\n",
       "    .dataframe thead th {\n",
       "        text-align: right;\n",
       "    }\n",
       "</style>\n",
       "<table border=\"1\" class=\"dataframe\">\n",
       "  <thead>\n",
       "    <tr style=\"text-align: right;\">\n",
       "      <th></th>\n",
       "      <th>Job URL</th>\n",
       "      <th>Job Description</th>\n",
       "      <th>Job Title</th>\n",
       "      <th>Job Location</th>\n",
       "    </tr>\n",
       "  </thead>\n",
       "  <tbody>\n",
       "    <tr>\n",
       "      <th>0</th>\n",
       "      <td>https://www.linkedin.com/jobs/view/3442691887</td>\n",
       "      <td>Company Description Dropbox is a leading globa...</td>\n",
       "      <td>Dropbox hiring Director of Data Science, New I...</td>\n",
       "      <td>Vancouver, British Columbia, Canada</td>\n",
       "    </tr>\n",
       "  </tbody>\n",
       "</table>\n",
       "</div>"
      ],
      "text/plain": [
       "                                         Job URL  \\\n",
       "0  https://www.linkedin.com/jobs/view/3442691887   \n",
       "\n",
       "                                     Job Description  \\\n",
       "0  Company Description Dropbox is a leading globa...   \n",
       "\n",
       "                                           Job Title  \\\n",
       "0  Dropbox hiring Director of Data Science, New I...   \n",
       "\n",
       "                           Job Location  \n",
       "0  Vancouver, British Columbia, Canada   "
      ]
     },
     "execution_count": 34,
     "metadata": {},
     "output_type": "execute_result"
    }
   ],
   "source": [
    "#selected jobs only\n",
    "select_df"
   ]
  },
  {
   "cell_type": "code",
   "execution_count": 35,
   "id": "ce3b34a0",
   "metadata": {},
   "outputs": [
    {
     "data": {
      "text/html": [
       "<div>\n",
       "<style scoped>\n",
       "    .dataframe tbody tr th:only-of-type {\n",
       "        vertical-align: middle;\n",
       "    }\n",
       "\n",
       "    .dataframe tbody tr th {\n",
       "        vertical-align: top;\n",
       "    }\n",
       "\n",
       "    .dataframe thead th {\n",
       "        text-align: right;\n",
       "    }\n",
       "</style>\n",
       "<table border=\"1\" class=\"dataframe\">\n",
       "  <thead>\n",
       "    <tr style=\"text-align: right;\">\n",
       "      <th></th>\n",
       "      <th>Job URL</th>\n",
       "      <th>Job Description</th>\n",
       "      <th>Job Title</th>\n",
       "      <th>Job Location</th>\n",
       "    </tr>\n",
       "  </thead>\n",
       "  <tbody>\n",
       "    <tr>\n",
       "      <th>1</th>\n",
       "      <td>https://www.linkedin.com/jobs/view/3</td>\n",
       "      <td>Invalid URL, analysis skipped</td>\n",
       "      <td></td>\n",
       "      <td></td>\n",
       "    </tr>\n",
       "  </tbody>\n",
       "</table>\n",
       "</div>"
      ],
      "text/plain": [
       "                                Job URL                Job Description  \\\n",
       "1  https://www.linkedin.com/jobs/view/3  Invalid URL, analysis skipped   \n",
       "\n",
       "  Job Title Job Location  \n",
       "1                         "
      ]
     },
     "execution_count": 35,
     "metadata": {},
     "output_type": "execute_result"
    }
   ],
   "source": [
    "#ignored jobs due to error\n",
    "ignore_df"
   ]
  },
  {
   "cell_type": "code",
   "execution_count": 36,
   "id": "a3e62f0f",
   "metadata": {},
   "outputs": [
    {
     "data": {
      "text/plain": [
       "\"Company Description Dropbox is a leading global collaboration platform that's transforming the way people work together, from the smallest business to the largest enterprise. With more than 700 million registered users across more than 180 countries, our mission is to design a more enlightened way of working. From our headquarters in San Francisco to eight dedicated Studios and a worldwide team of employees who choose where they work best, our Virtual First approach is leading the way into the future of work. Team Description Our Product team advocates for our users and our business, setting the vision for our growing family of products. We use data, research, strategy, and empathy to guide multidisciplinary teams toward a common goal, balancing diverse perspectives and empowering our teams to do great work. As we scale globally, there’s plenty of space for you to grow alongside us and simplify life for millions of people around the world in team that always focuses on we, not I, and creates delightful products that are worthy of trust. Role DescriptionHow many times you get an opportunity to be at the ground floor on a very big and important mission? What if you get to be one of the top leaders defining the mission, hiring, guiding your teams and influencing the direction of Dropbox? As a Director of Data Science for this new division, you will exactly get to do that.  You will be able to drive the future direction of this new initiative and answer key questions about revenue/user growth. You will build and lead a team of top-tier data scientists and be an inherent part of product org to create and scale this new business.As a ground floor opportunity for this startup team, we need this lead to build a top-tier data-informed culture with a lot of focus on impact and execution.ResponsibilitiesYou will lead the team in balancing urgency vs. the incredibly high quality bar expected by both our customers and the broader Dropbox organization, through clear and repeatable data informed approachYou will partner closely with leadership across all functions - Product, Engineering, Design, Research, GTM, Customer success and Sales You will have the seat at the table for every key decision for this new initiativeYou will create a culture of strong technical ownership, resulting in highly reliable products and services at scaleYou will build and manage a team of high performing data scientists to deliver best in class analytics You will leverage data-driven insights to proactively identify most impactful opportunities, and inform future experimentation design and product roadmapsRequirementsBachelors’ or above in quantitative discipline: Statistics, Applied Mathematics, Economics, Computer Science, Engineering, or related field10+ years experience of leveraging data-driven analysis to influence key business decisions, preferably in a tech company3+ years directly managing data scientists, quantitative researchers, or product analystsProven track record of being able to work independently and proactively engage with business stakeholders with minimal direction & driver measurable business impactAbility to influence prioritization and execution of high impact projects effecting customer experience and monetizationAbility to analyze large datasets and use data to inform product or business decision making, with a track record of driving directly measurable product or business impactGood Executive presence with excellent verbal and written communication skillsPrevious experience building data driven programs and teams - experience with SQL and large datasets, deep understanding of statistical analysis & experiment designTotal RewardsFor candidates hired in San Francisco metro, New York City metro, or Seattle metro, the expected salary/On-Target Earnings (OTE) range for the role is currently $237,300 - $279,200 - $321,100. For candidates hired in the following locations: Austin (TX) metro, Chicago metro, California (outside SF metro), Colorado, Connecticut (outside NYC metro), Delaware, Massachusetts, New Hampshire, New York (outside NYC metro), Oregon, Pennsylvania (outside NYC or DC metro), Washington (outside Seattle metro) and Washington DC metro, the expected salary/On-Target Earnings (OTE) range for the role is currently $213,600 - $251,300 - $289,000. For candidates hired in all other US locations, the expected salary/On-Target Earnings (OTE) range for this role is currently $189,900 - $223,400 - $256,900. Range(s) is subject to change. Dropbox takes a number of factors into account when determining individual starting pay, including job and level they are hired into, location/metropolitan area, skillset, and peer compensation. Dropbox uses the zip code of an employee’s remote work location to determine which metropolitan pay range we use. Salary/OTE is just one component of Dropbox’s total rewards package. All regular employees are also eligible for the corporate bonus program or a sales incentive (target included in OTE) as well as stock in the form of Restricted Stock Units (RSUs). Dropbox is an equal opportunity employer. We are a welcoming place for everyone, and we do our best to make sure all people feel supported and connected at work. A big part of that effort is our support for members and allies of internal groups like Asians at Dropbox, BlackDropboxers, Latinx, Pridebox (LGBTQ), Vets at Dropbox, Women at Dropbox, ATX Diversity (based in Austin, Texas) and the Dropbox Empowerment Network (based in Dublin, Ireland).        Show more                Show less                    Seniority level                      Not Applicable                    Employment type                  Full-time                    Job function                      Engineering and Information Technology                      Industries                    IT Services and IT Consulting, Software Development, and Technology, Information and Internet          Referrals increase your chances of interviewing at Dropbox by 2x              See who you know             \""
      ]
     },
     "execution_count": 36,
     "metadata": {},
     "output_type": "execute_result"
    }
   ],
   "source": [
    "pd.set_option('display.width', 1000)\n",
    "pd.set_option('display.max_rows', 500)\n",
    "pd.set_option('display.max_columns', 500)\n",
    "df1['Job Description'][0]"
   ]
  },
  {
   "cell_type": "code",
   "execution_count": 41,
   "id": "3191a756",
   "metadata": {},
   "outputs": [
    {
     "data": {
      "text/plain": [
       "\"Company Description Dropbox is a leading global collaboration platform that's transforming the way people work together, from the smallest business to the largest enterprise. With more than 700 million registered users across more than 180 countries, our mission is to design a more enlightened way of working. From our headquarters in San Francisco to eight dedicated Studios and a worldwide team of employees who choose where they work best, our Virtual First approach is leading the way into the future of work. Team Description Our Product team advocates for our users and our business, setting the vision for our growing family of products. We use data, research, strategy, and empathy to guide multidisciplinary teams toward a common goal, balancing diverse perspectives and empowering our teams to do great work. As we scale globally, there’s plenty of space for you to grow alongside us and simplify life for millions of people around the world in team that always focuses on we, not I, and creates delightful products that are worthy of trust. Role DescriptionHow many times you get an opportunity to be at the ground floor on a very big and important mission? What if you get to be one of the top leaders defining the mission, hiring, guiding your teams and influencing the direction of Dropbox? As a Director of Data Science for this new division, you will exactly get to do that.  You will be able to drive the future direction of this new initiative and answer key questions about revenue/user growth. You will build and lead a team of top-tier data scientists and be an inherent part of product org to create and scale this new business.As a ground floor opportunity for this startup team, we need this lead to build a top-tier data-informed culture with a lot of focus on impact and execution.ResponsibilitiesYou will lead the team in balancing urgency vs. the incredibly high quality bar expected by both our customers and the broader Dropbox organization, through clear and repeatable data informed approachYou will partner closely with leadership across all functions - Product, Engineering, Design, Research, GTM, Customer success and Sales You will have the seat at the table for every key decision for this new initiativeYou will create a culture of strong technical ownership, resulting in highly reliable products and services at scaleYou will build and manage a team of high performing data scientists to deliver best in class analytics You will leverage data-driven insights to proactively identify most impactful opportunities, and inform future experimentation design and product roadmapsRequirementsBachelors’ or above in quantitative discipline: Statistics, Applied Mathematics, Economics, Computer Science, Engineering, or related field10+ years experience of leveraging data-driven analysis to influence key business decisions, preferably in a tech company3+ years directly managing data scientists, quantitative researchers, or product analystsProven track record of being able to work independently and proactively engage with business stakeholders with minimal direction & driver measurable business impactAbility to influence prioritization and execution of high impact projects effecting customer experience and monetizationAbility to analyze large datasets and use data to inform product or business decision making, with a track record of driving directly measurable product or business impactGood Executive presence with excellent verbal and written communication skillsPrevious experience building data driven programs and teams - experience with SQL and large datasets, deep understanding of statistical analysis & experiment designTotal RewardsFor candidates hired in San Francisco metro, New York City metro, or Seattle metro, the expected salary/On-Target Earnings (OTE) range for the role is currently $237,300 - $279,200 - $321,100. For candidates hired in the following locations: Austin (TX) metro, Chicago metro, California (outside SF metro), Colorado, Connecticut (outside NYC metro), Delaware, Massachusetts, New Hampshire, New York (outside NYC metro), Oregon, Pennsylvania (outside NYC or DC metro), Washington (outside Seattle metro) and Washington DC metro, the expected salary/On-Target Earnings (OTE) range for the role is currently $213,600 - $251,300 - $289,000. For candidates hired in all other US locations, the expected salary/On-Target Earnings (OTE) range for this role is currently $189,900 - $223,400 - $256,900. Range(s) is subject to change. Dropbox takes a number of factors into account when determining individual starting pay, including job and level they are hired into, location/metropolitan area, skillset, and peer compensation. Dropbox uses the zip code of an employee’s remote work location to determine which metropolitan pay range we use. Salary/OTE is just one component of Dropbox’s total rewards package. All regular employees are also eligible for the corporate bonus program or a sales incentive (target included in OTE) as well as stock in the form of Restricted Stock Units (RSUs). Dropbox is an equal opportunity employer. We are a welcoming place for everyone, and we do our best to make sure all people feel supported and connected at work. A big part of that effort is our support for members and allies of internal groups like Asians at Dropbox, BlackDropboxers, Latinx, Pridebox (LGBTQ), Vets at Dropbox, Women at Dropbox, ATX Diversity (based in Austin, Texas) and the Dropbox Empowerment Network (based in Dublin, Ireland).        Show more                Show less                    Seniority level                      Not Applicable                    Employment type                  Full-time                    Job function                      Engineering and Information Technology                      Industries                    IT Services and IT Consulting, Software Development, and Technology, Information and Internet          Referrals increase your chances of interviewing at Dropbox by 2x              See who you know             \""
      ]
     },
     "execution_count": 41,
     "metadata": {},
     "output_type": "execute_result"
    }
   ],
   "source": [
    "df1['Job Description'][0]"
   ]
  },
  {
   "cell_type": "code",
   "execution_count": null,
   "id": "49a62884",
   "metadata": {},
   "outputs": [],
   "source": []
  }
 ],
 "metadata": {
  "kernelspec": {
   "display_name": "Python 3 (ipykernel)",
   "language": "python",
   "name": "python3"
  },
  "language_info": {
   "codemirror_mode": {
    "name": "ipython",
    "version": 3
   },
   "file_extension": ".py",
   "mimetype": "text/x-python",
   "name": "python",
   "nbconvert_exporter": "python",
   "pygments_lexer": "ipython3",
   "version": "3.9.12"
  }
 },
 "nbformat": 4,
 "nbformat_minor": 5
}
